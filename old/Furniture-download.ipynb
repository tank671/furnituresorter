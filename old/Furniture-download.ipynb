{
 "cells": [
  {
   "cell_type": "markdown",
   "metadata": {},
   "source": [
    "# Creating training sets for image classification"
   ]
  },
  {
   "cell_type": "code",
   "execution_count": null,
   "metadata": {},
   "outputs": [],
   "source": [
    "%reload_ext autoreload\n",
    "%autoreload 2\n",
    "%matplotlib inline"
   ]
  },
  {
   "cell_type": "code",
   "execution_count": 4,
   "metadata": {},
   "outputs": [],
   "source": [
    "from fastai import *\n",
    "from fastai.vision import *\n",
    "from pathlib import Path"
   ]
  },
  {
   "cell_type": "code",
   "execution_count": 3,
   "metadata": {},
   "outputs": [
    {
     "name": "stdout",
     "output_type": "stream",
     "text": [
      "/home/jupyter/my_nbs\r\n"
     ]
    }
   ],
   "source": [
    "!pwd"
   ]
  },
  {
   "cell_type": "code",
   "execution_count": 42,
   "metadata": {},
   "outputs": [],
   "source": [
    "folder = 'door'\n",
    "file = 'door.csv'"
   ]
  },
  {
   "cell_type": "code",
   "execution_count": 23,
   "metadata": {},
   "outputs": [],
   "source": [
    "folder = 'railing'\n",
    "file = 'railing.csv'"
   ]
  },
  {
   "cell_type": "code",
   "execution_count": 26,
   "metadata": {},
   "outputs": [],
   "source": [
    "folder = 'bookshelf'\n",
    "file = 'bookshelf.csv'"
   ]
  },
  {
   "cell_type": "code",
   "execution_count": 29,
   "metadata": {},
   "outputs": [],
   "source": [
    "folder = 'console'\n",
    "file = 'console.csv'"
   ]
  },
  {
   "cell_type": "code",
   "execution_count": 32,
   "metadata": {},
   "outputs": [],
   "source": [
    "folder = 'table'\n",
    "file = 'table.csv'"
   ]
  },
  {
   "cell_type": "code",
   "execution_count": 43,
   "metadata": {},
   "outputs": [],
   "source": [
    "path = Path('data/furniture')\n",
    "dest = path/folder\n",
    "dest.mkdir(parents=True, exist_ok=True)"
   ]
  },
  {
   "cell_type": "code",
   "execution_count": 44,
   "metadata": {},
   "outputs": [
    {
     "data": {
      "text/html": [
       "\n",
       "    <div>\n",
       "        <style>\n",
       "        \t/* Turns off some styling */\n",
       "        \tprogress {\n",
       "\n",
       "            \t/* gets rid of default border in Firefox and Opera. */\n",
       "            \tborder: none;\n",
       "\n",
       "            \t/* Needs to be in here for Safari polyfill so background images work as expected. */\n",
       "            \tbackground-size: auto;\n",
       "            }\n",
       "\n",
       "            .progress-bar-interrupted, .progress-bar-interrupted::-webkit-progress-bar {\n",
       "                background: #F44336;\n",
       "            }\n",
       "        </style>\n",
       "      <progress value='632' class='' max='632', style='width:300px; height:20px; vertical-align: middle;'></progress>\n",
       "      100.00% [632/632 00:31<00:00]\n",
       "    </div>\n",
       "    "
      ],
      "text/plain": [
       "<IPython.core.display.HTML object>"
      ]
     },
     "metadata": {},
     "output_type": "display_data"
    },
    {
     "name": "stdout",
     "output_type": "stream",
     "text": [
      "Error http://www.patinayard.com/user/contemporary_metal_barn_door.jpg_1436329107 'content-length'\n",
      "Error http://sof.64aoc.space/img/nJ1uM2HhoJSxMF1cov1wnTyhLF5wo20iZzLjnwNjDH5SIScRExcOGUO0Y0A1p3EioF1GLJMyqUxgGJI0LJjgET9ipv1Vo21yYIImMJDgFKWiov1ALJyhYHIhqUW5YHEio3VgETImnJqhpl5dpTp/china-custom-safety-metal-door-home-used-iron-main-entry-door.jpg 'content-length'\n",
      "Error https://mdjsj2j9du28uz4x3olr7ukm-wpengine.netdna-ssl.com/wp-content/uploads/2016/02/metal-door-01.jpg 'content-length'\n",
      "Error http://www.bigtimberworks.com/wp-content/uploads/2016/11/custom-metal-fireplace-doors-2.jpg 'content-length'\n",
      "Error http://sof.64aoc.space/img/nJ1uM2HhoJSxMF1cov1wnTyhLF5wo20iZzLjnwNjoH9ELKA6EzEhFKIHY0A1p3EioF1GLJMyqUxgGJI0LJjgET9ipv1Vo21yYIImMJDgFKWiov1ALJyhYHIhqUW5YHEio3VgETImnJqhpl5dpTp/china-custom-safety-metal-door-home-used-iron-main-entry-door.jpg 'content-length'\n",
      "Error https://nebula.wsimg.com/8c1a3c40017a18b64c64ba2ee8b13613?AccessKeyId=7E8D02CD78103094900A&disposition=0&alloworigin=1 'content-length'\n",
      "Error https://www.amighini.com/imgs/CDED/CAWD-CA587/Custom_made_exterior_door_CAWD_CA587gr_1_500x500.jpg?NoMark=1 'content-length'\n",
      "Error https://illustrativetype.com/wp-content/uploads/2018/08/custom-steel-front-doors-fresh-custom-size-exterior-doors-custom-sized-exterior-door-normal-size-custom-steel-front-doors.jpg 'content-length'\n",
      "Error http://babolpress.com/wp-content/uploads/custom-metal-doors-cantera-20-door-1-wonderful-fused-glass-tiles-for-door.jpg HTTPConnectionPool(host='babolpress.com', port=80): Max retries exceeded with url: /wp-content/uploads/custom-metal-doors-cantera-20-door-1-wonderful-fused-glass-tiles-for-door.jpg (Caused by NewConnectionError('<urllib3.connection.HTTPConnection object at 0x7f0840718c88>: Failed to establish a new connection: [Errno -3] Temporary failure in name resolution',))\n",
      "Error http://www.patinayard.com/user/contemporary_double_barn_door.jpg_1436329322 'content-length'\n",
      "Error https://oleklejbzon.com/images/P1110718.JPG 'content-length'\n",
      "Error http://2p4rwq1w6taf3cqmpp3chnxd.wpengine.netdna-cdn.com/wp-content/uploads/2016/07/Custom-Aluminum-Garage-Doors-1.jpg 'content-length'\n",
      "Error https://image.made-in-china.com/2f0j00haOfReVBAvqy/2018-New-Custom-Stainless-Steel-Metal-Door-Frame-Designs.jpg 'content-length'\n",
      "Error http://hawaiiwelder.com/communities/0/000/002/001/220//images/11784019.jpg 'content-length'\n",
      "Error https://superiorreball.com/wp-content/uploads/2018/08/custom-front-entry-doors-with-glass-how-to-wrought-iron-entry-doors-iron-entry-doors-custom-front-wrought-door-custom-front-entry-doors-with-glass.jpg 'content-length'\n",
      "Error http://www.patinayard.com/user/industrial_barn_doors2.jpg_1407105162 'content-length'\n",
      "Error http://228z2s1de03c25m7sfjgua6s.wpengine.netdna-cdn.com/wp-content/uploads/2014/06/U1T2475.jpg 'content-length'\n",
      "Error https://illustrativetype.com/wp-content/uploads/2018/08/front-doors-with-rod-iron-inspire-front-doors-custom-wrought-iron-front-door-front-gate-door-picture-front-doors-with-rod-iron.jpg 'content-length'\n",
      "Error http://www.henchsh.com/uploadfile/24/66/6624/32313/05/17/20170509180134-11494407662789.jpg 'content-length'\n",
      "Error https://www.masterpiecedoors.com/wp-content/uploads/2018/09/iron-front-doors-double-french-doors-custom-garage-doors-bronze-mahogany-fiberglass.gif 'content-length'\n",
      "Error http://codetaku.com/wp-content/uploads/home-depot-exterior-wood-doors-replacement-metal-exterior-double-doors-custom-wood-double-door.jpg 'content-length'\n",
      "Error https://velvetbuttonboutique.com/g/front-doors/0114/fresh-steel-security-doors-atlanta-14558.jpg 'content-length'\n",
      "Error https://nebula.wsimg.com/240da90bf24a3055f6e1f7019d39cd19?AccessKeyId=7E8D02CD78103094900A&disposition=0&alloworigin=1 'content-length'\n",
      "Error http://www.henchsh.com/uploadfile/24/66/6624/32313/11/18/img-20151115-120614-1.jpg 'content-length'\n",
      "Error https://www.geekoutwith.me/i/2017/08/house-metal-front-door-gates-front-door-metal-security-front-door-gates-custom-contemporary-metal-entry-gate-panels-steel-iron-walk-thru-garden.jpg 'content-length'\n",
      "Error http://babolpress.com/wp-content/uploads/custom-metal-doors-iron-entry-custom-1-320-320-excellent.jpg HTTPConnectionPool(host='babolpress.com', port=80): Max retries exceeded with url: /wp-content/uploads/custom-metal-doors-iron-entry-custom-1-320-320-excellent.jpg (Caused by NewConnectionError('<urllib3.connection.HTTPConnection object at 0x7f08406edeb8>: Failed to establish a new connection: [Errno -3] Temporary failure in name resolution',))\n",
      "Error https://owow.info/wp-content/uploads/2018/08/example-of-custom-wood-door-with-glass-surround-how-to-paint-an-exterior-metal-door-of-how-to-paint-an-exterior-metal-door.png 'content-length'\n",
      "Error http://ghystone.com/image/woodproduct/woodendoor/ironglassdoors/ironglassdoors-13-B.jpg 'content-length'\n",
      "Error http://www.securadoor.com/assets/pics/14251522244947.jpg 'content-length'\n",
      "Error https://demejico1-wpengine.netdna-ssl.com/wp-content/uploads/2013/07/DSC03405.jpg 'content-length'\n",
      "Error https://www.masterpiecedoors.com/wp-content/uploads/2018/09/bronze-iron-double-doors-custom-transom-privacy-glass-paris.gif 'content-length'\n",
      "Error http://2p4rwq1w6taf3cqmpp3chnxd.wpengine.netdna-cdn.com/wp-content/uploads/2016/07/Custom-Faux-Wood-Garage-Doors-2.jpg 'content-length'\n",
      "Error http://www.patinayard.com/user/black_iron_glass_barn_door.jpg_1472424876 'content-length'\n",
      "Error http://howevilis.me/wp-content/uploads/2017/12/trendy-wrought-iron-front-door-custom-design-forged-wrought-iron-front-doors-iron-doors-iron-entry-doors-h-wrought-iron-front-doors-houston-texas.jpg HTTPConnectionPool(host='howevilis.me', port=80): Max retries exceeded with url: /wp-content/uploads/2017/12/trendy-wrought-iron-front-door-custom-design-forged-wrought-iron-front-doors-iron-doors-iron-entry-doors-h-wrought-iron-front-doors-houston-texas.jpg (Caused by NewConnectionError('<urllib3.connection.HTTPConnection object at 0x7f0840718978>: Failed to establish a new connection: [Errno -3] Temporary failure in name resolution',))\n",
      "Error https://thrillerink.com/wp-content/uploads/2018/08/impact-double-front-doors-modern-looks-custom-size-steel-exterior-doors-gallery-doors-design-modern-impact-double-front-doors.jpg 'content-length'\n",
      "Error https://portella.com/wp-content/uploads/2017/03/POR-3018-059.jpg 'content-length'\n",
      "Error https://nebula.wsimg.com/df02daffb1ccade2c62187217396c22b?AccessKeyId=7E8D02CD78103094900A&disposition=0&alloworigin=1 'content-length'\n",
      "Error https://demejico1-wpengine.netdna-ssl.com/wp-content/uploads/2013/09/MG_7848.jpg 'content-length'\n",
      "Error http://www.securadoor.com/assets/pics/30981484254076.jpg 'content-length'\n",
      "Error http://www.eastcoastornamentalwelding.com/images/slides/2.jpg 'content-length'\n",
      "Error https://lookaside.fbsbx.com/lookaside/crawler/media/?media_id=577808675564205 'content-length'\n",
      "Error https://superiorreball.com/wp-content/uploads/2018/08/fireplace-front-doors-the-best-option-arch-fireplace-door-arched-wrought-iron-fireplace-screen-door-custom-fireplace-front-doors.jpg 'content-length'\n",
      "Error https://www.tremblayironworks.com/wp-content/uploads/2014/07/wrought-iron-gates.jpg 'content-length'\n",
      "Error http://neag.info/img/design/iron-gate-doors/door-home-iron-gate-installation-doors26.jpg 'content-length'\n",
      "Error http://www.thestoneshopinc.com/wp-content/uploads/2018/04/Wrought-iron-doors-also-screen-doors-also-rod-iron-entry-doors-also-iron-and-glass-front-doors.jpg 'content-length'\n",
      "Error http://www.nealjohnsonltd.com/wp-content/uploads/no-door-too-small-custom-hollow-metal-door-manufacturered-with-regard-to-small-door-for-crawl-space.jpg 'content-length'\n"
     ]
    }
   ],
   "source": [
    "download_images(path/file, dest)"
   ]
  },
  {
   "cell_type": "code",
   "execution_count": 46,
   "metadata": {},
   "outputs": [
    {
     "data": {
      "text/html": [
       "\n",
       "    <div>\n",
       "        <style>\n",
       "        \t/* Turns off some styling */\n",
       "        \tprogress {\n",
       "\n",
       "            \t/* gets rid of default border in Firefox and Opera. */\n",
       "            \tborder: none;\n",
       "\n",
       "            \t/* Needs to be in here for Safari polyfill so background images work as expected. */\n",
       "            \tbackground-size: auto;\n",
       "            }\n",
       "\n",
       "            .progress-bar-interrupted, .progress-bar-interrupted::-webkit-progress-bar {\n",
       "                background: #F44336;\n",
       "            }\n",
       "        </style>\n",
       "      <progress value='586' class='' max='586', style='width:300px; height:20px; vertical-align: middle;'></progress>\n",
       "      100.00% [586/586 00:11<00:00]\n",
       "    </div>\n",
       "    "
      ],
      "text/plain": [
       "<IPython.core.display.HTML object>"
      ]
     },
     "metadata": {},
     "output_type": "display_data"
    },
    {
     "name": "stdout",
     "output_type": "stream",
     "text": [
      "cannot identify image file '/mount/furniture/door/00000606.jpg'\n",
      "cannot identify image file '/mount/furniture/door/00000260.jpg'\n",
      "cannot identify image file '/mount/furniture/door/00000034.jpg'\n",
      "cannot identify image file '/mount/furniture/door/00000090.jpg'\n",
      "cannot identify image file '/mount/furniture/door/00000504.jpg'\n",
      "cannot identify image file '/mount/furniture/door/00000233.jpg'\n",
      "cannot identify image file '/mount/furniture/door/00000352.jpg'\n",
      "cannot identify image file '/mount/furniture/door/00000430.jpg'\n",
      "cannot identify image file '/mount/furniture/door/00000412.jpg'\n",
      "cannot identify image file '/mount/furniture/door/00000250.jpg'\n",
      "cannot identify image file '/mount/furniture/door/00000270.jpg'\n",
      "cannot identify image file '/mount/furniture/door/00000089.jpg'\n",
      "cannot identify image file '/mount/furniture/door/00000581.jpg'\n",
      "cannot identify image file '/mount/furniture/door/00000451.jpg'\n",
      "cannot identify image file '/mount/furniture/door/00000336.jpg'\n",
      "cannot identify image file '/mount/furniture/door/00000256.jpg'\n",
      "cannot identify image file '/mount/furniture/door/00000560.jpg'\n",
      "cannot identify image file '/mount/furniture/door/00000342.jpg'\n",
      "cannot identify image file '/mount/furniture/door/00000414.jpg'\n",
      "cannot identify image file '/mount/furniture/door/00000257.jpg'\n",
      "cannot identify image file '/mount/furniture/door/00000464.jpg'\n",
      "cannot identify image file '/mount/furniture/door/00000130.jpg'\n",
      "cannot identify image file '/mount/furniture/door/00000073.jpg'\n",
      "cannot identify image file '/mount/furniture/door/00000540.jpg'\n",
      "cannot identify image file '/mount/furniture/door/00000487.jpg'\n",
      "cannot identify image file '/mount/furniture/door/00000265.jpg'\n",
      "cannot identify image file '/mount/furniture/door/00000603.jpg'\n",
      "cannot identify image file '/mount/furniture/door/00000038.jpg'\n",
      "cannot identify image file '/mount/furniture/door/00000118.jpg'\n",
      "cannot identify image file '/mount/furniture/door/00000359.jpg'\n",
      "cannot identify image file '/mount/furniture/door/00000199.jpg'\n",
      "cannot identify image file '/mount/furniture/door/00000515.jpg'\n",
      "cannot identify image file '/mount/furniture/door/00000238.jpg'\n",
      "cannot identify image file '/mount/furniture/door/00000214.jpg'\n",
      "cannot identify image file '/mount/furniture/door/00000228.jpg'\n",
      "cannot identify image file '/mount/furniture/door/00000104.jpg'\n",
      "cannot identify image file '/mount/furniture/door/00000615.jpg'\n",
      "cannot identify image file '/mount/furniture/door/00000395.jpg'\n",
      "cannot identify image file '/mount/furniture/door/00000297.jpg'\n",
      "cannot identify image file '/mount/furniture/door/00000318.jpg'\n",
      "cannot identify image file '/mount/furniture/door/00000432.jpg'\n",
      "cannot identify image file '/mount/furniture/door/00000462.jpg'\n",
      "cannot identify image file '/mount/furniture/door/00000467.jpg'\n",
      "cannot identify image file '/mount/furniture/door/00000449.jpg'\n",
      "cannot identify image file '/mount/furniture/door/00000076.jpg'\n",
      "cannot identify image file '/mount/furniture/door/00000143.jpg'\n"
     ]
    }
   ],
   "source": [
    "verify_images(path/'door', delete=True, max_workers=8)"
   ]
  },
  {
   "cell_type": "code",
   "execution_count": 37,
   "metadata": {},
   "outputs": [],
   "source": [
    "classes = ['door', 'railing', 'console', 'table', 'bookshelf']"
   ]
  },
  {
   "cell_type": "code",
   "execution_count": 36,
   "metadata": {},
   "outputs": [
    {
     "name": "stdout",
     "output_type": "stream",
     "text": [
      "railing\n"
     ]
    },
    {
     "data": {
      "text/html": [
       "\n",
       "    <div>\n",
       "        <style>\n",
       "        \t/* Turns off some styling */\n",
       "        \tprogress {\n",
       "\n",
       "            \t/* gets rid of default border in Firefox and Opera. */\n",
       "            \tborder: none;\n",
       "\n",
       "            \t/* Needs to be in here for Safari polyfill so background images work as expected. */\n",
       "            \tbackground-size: auto;\n",
       "            }\n",
       "\n",
       "            .progress-bar-interrupted, .progress-bar-interrupted::-webkit-progress-bar {\n",
       "                background: #F44336;\n",
       "            }\n",
       "        </style>\n",
       "      <progress value='414' class='' max='414', style='width:300px; height:20px; vertical-align: middle;'></progress>\n",
       "      100.00% [414/414 00:08<00:00]\n",
       "    </div>\n",
       "    "
      ],
      "text/plain": [
       "<IPython.core.display.HTML object>"
      ]
     },
     "metadata": {},
     "output_type": "display_data"
    },
    {
     "name": "stdout",
     "output_type": "stream",
     "text": [
      "cannot identify image file '/mount/furniture/railing/00000096.jpg'\n",
      "cannot identify image file '/mount/furniture/railing/00000312.jpg'\n",
      "cannot identify image file '/mount/furniture/railing/00000147.jpg'\n",
      "cannot identify image file '/mount/furniture/railing/00000073.jpg'\n",
      "cannot identify image file '/mount/furniture/railing/00000318.jpg'\n",
      "cannot identify image file '/mount/furniture/railing/00000029.jpg'\n",
      "cannot identify image file '/mount/furniture/railing/00000097.jpg'\n",
      "cannot identify image file '/mount/furniture/railing/00000306.jpg'\n",
      "cannot identify image file '/mount/furniture/railing/00000186.jpg'\n",
      "console\n"
     ]
    },
    {
     "data": {
      "text/html": [
       "\n",
       "    <div>\n",
       "        <style>\n",
       "        \t/* Turns off some styling */\n",
       "        \tprogress {\n",
       "\n",
       "            \t/* gets rid of default border in Firefox and Opera. */\n",
       "            \tborder: none;\n",
       "\n",
       "            \t/* Needs to be in here for Safari polyfill so background images work as expected. */\n",
       "            \tbackground-size: auto;\n",
       "            }\n",
       "\n",
       "            .progress-bar-interrupted, .progress-bar-interrupted::-webkit-progress-bar {\n",
       "                background: #F44336;\n",
       "            }\n",
       "        </style>\n",
       "      <progress value='489' class='' max='489', style='width:300px; height:20px; vertical-align: middle;'></progress>\n",
       "      100.00% [489/489 00:06<00:00]\n",
       "    </div>\n",
       "    "
      ],
      "text/plain": [
       "<IPython.core.display.HTML object>"
      ]
     },
     "metadata": {},
     "output_type": "display_data"
    },
    {
     "name": "stdout",
     "output_type": "stream",
     "text": [
      "cannot identify image file '/mount/furniture/console/00000415.jpg'\n",
      "cannot identify image file '/mount/furniture/console/00000389.jpg'\n",
      "cannot identify image file '/mount/furniture/console/00000493.jpg'\n",
      "cannot identify image file '/mount/furniture/console/00000148.jpg'\n",
      "cannot identify image file '/mount/furniture/console/00000300.jpg'\n",
      "cannot identify image file '/mount/furniture/console/00000395.jpg'\n",
      "table\n"
     ]
    },
    {
     "data": {
      "text/html": [
       "\n",
       "    <div>\n",
       "        <style>\n",
       "        \t/* Turns off some styling */\n",
       "        \tprogress {\n",
       "\n",
       "            \t/* gets rid of default border in Firefox and Opera. */\n",
       "            \tborder: none;\n",
       "\n",
       "            \t/* Needs to be in here for Safari polyfill so background images work as expected. */\n",
       "            \tbackground-size: auto;\n",
       "            }\n",
       "\n",
       "            .progress-bar-interrupted, .progress-bar-interrupted::-webkit-progress-bar {\n",
       "                background: #F44336;\n",
       "            }\n",
       "        </style>\n",
       "      <progress value='303' class='' max='303', style='width:300px; height:20px; vertical-align: middle;'></progress>\n",
       "      100.00% [303/303 00:04<00:00]\n",
       "    </div>\n",
       "    "
      ],
      "text/plain": [
       "<IPython.core.display.HTML object>"
      ]
     },
     "metadata": {},
     "output_type": "display_data"
    },
    {
     "name": "stdout",
     "output_type": "stream",
     "text": [
      "cannot identify image file '/mount/furniture/table/00000236.jpg'\n",
      "cannot identify image file '/mount/furniture/table/00000176.jpg'\n",
      "cannot identify image file '/mount/furniture/table/00000042.jpg'\n",
      "cannot identify image file '/mount/furniture/table/00000283.jpg'\n",
      "cannot identify image file '/mount/furniture/table/00000252.jpg'\n",
      "cannot identify image file '/mount/furniture/table/00000198.jpg'\n",
      "cannot identify image file '/mount/furniture/table/00000073.jpg'\n",
      "cannot identify image file '/mount/furniture/table/00000316.jpg'\n",
      "cannot identify image file '/mount/furniture/table/00000030.jpg'\n",
      "cannot identify image file '/mount/furniture/table/00000323.jpg'\n",
      "cannot identify image file '/mount/furniture/table/00000091.jpg'\n",
      "cannot identify image file '/mount/furniture/table/00000161.jpg'\n",
      "cannot identify image file '/mount/furniture/table/00000025.jpg'\n",
      "cannot identify image file '/mount/furniture/table/00000178.jpg'\n",
      "bookshelf\n"
     ]
    },
    {
     "data": {
      "text/html": [
       "\n",
       "    <div>\n",
       "        <style>\n",
       "        \t/* Turns off some styling */\n",
       "        \tprogress {\n",
       "\n",
       "            \t/* gets rid of default border in Firefox and Opera. */\n",
       "            \tborder: none;\n",
       "\n",
       "            \t/* Needs to be in here for Safari polyfill so background images work as expected. */\n",
       "            \tbackground-size: auto;\n",
       "            }\n",
       "\n",
       "            .progress-bar-interrupted, .progress-bar-interrupted::-webkit-progress-bar {\n",
       "                background: #F44336;\n",
       "            }\n",
       "        </style>\n",
       "      <progress value='453' class='' max='453', style='width:300px; height:20px; vertical-align: middle;'></progress>\n",
       "      100.00% [453/453 00:07<00:00]\n",
       "    </div>\n",
       "    "
      ],
      "text/plain": [
       "<IPython.core.display.HTML object>"
      ]
     },
     "metadata": {},
     "output_type": "display_data"
    },
    {
     "name": "stdout",
     "output_type": "stream",
     "text": [
      "cannot identify image file '/mount/furniture/bookshelf/00000382.jpg'\n",
      "cannot identify image file '/mount/furniture/bookshelf/00000466.jpg'\n",
      "cannot identify image file '/mount/furniture/bookshelf/00000363.jpg'\n",
      "cannot identify image file '/mount/furniture/bookshelf/00000429.jpg'\n",
      "cannot identify image file '/mount/furniture/bookshelf/00000077.jpg'\n",
      "cannot identify image file '/mount/furniture/bookshelf/00000215.jpg'\n",
      "cannot identify image file '/mount/furniture/bookshelf/00000305.jpg'\n",
      "cannot identify image file '/mount/furniture/bookshelf/00000269.jpg'\n",
      "cannot identify image file '/mount/furniture/bookshelf/00000176.jpg'\n",
      "cannot identify image file '/mount/furniture/bookshelf/00000147.jpg'\n",
      "cannot identify image file '/mount/furniture/bookshelf/00000455.jpg'\n",
      "cannot identify image file '/mount/furniture/bookshelf/00000440.jpg'\n",
      "cannot identify image file '/mount/furniture/bookshelf/00000352.jpg'\n",
      "cannot identify image file '/mount/furniture/bookshelf/00000289.jpg'\n",
      "cannot identify image file '/mount/furniture/bookshelf/00000221.jpg'\n",
      "cannot identify image file '/mount/furniture/bookshelf/00000116.jpg'\n",
      "cannot identify image file '/mount/furniture/bookshelf/00000078.jpg'\n",
      "cannot identify image file '/mount/furniture/bookshelf/00000448.jpg'\n",
      "cannot identify image file '/mount/furniture/bookshelf/00000256.jpg'\n",
      "cannot identify image file '/mount/furniture/bookshelf/00000213.jpg'\n",
      "cannot identify image file '/mount/furniture/bookshelf/00000425.jpg'\n",
      "cannot identify image file '/mount/furniture/bookshelf/00000300.jpg'\n",
      "cannot identify image file '/mount/furniture/bookshelf/00000453.jpg'\n",
      "cannot identify image file '/mount/furniture/bookshelf/00000426.jpg'\n",
      "cannot identify image file '/mount/furniture/bookshelf/00000230.jpg'\n",
      "cannot identify image file '/mount/furniture/bookshelf/00000248.jpg'\n",
      "cannot identify image file '/mount/furniture/bookshelf/00000388.jpg'\n",
      "cannot identify image file '/mount/furniture/bookshelf/00000199.jpg'\n",
      "cannot identify image file '/mount/furniture/bookshelf/00000238.jpg'\n",
      "cannot identify image file '/mount/furniture/bookshelf/00000051.jpg'\n",
      "cannot identify image file '/mount/furniture/bookshelf/00000387.jpg'\n",
      "cannot identify image file '/mount/furniture/bookshelf/00000348.jpg'\n",
      "cannot identify image file '/mount/furniture/bookshelf/00000419.jpg'\n",
      "cannot identify image file '/mount/furniture/bookshelf/00000123.jpg'\n",
      "cannot identify image file '/mount/furniture/bookshelf/00000379.jpg'\n",
      "cannot identify image file '/mount/furniture/bookshelf/00000143.jpg'\n"
     ]
    }
   ],
   "source": [
    "for c in classes:\n",
    "    print(c)\n",
    "    verify_images(path/c, delete=True, max_workers=8)"
   ]
  }
 ],
 "metadata": {
  "kernelspec": {
   "display_name": "Python 3",
   "language": "python",
   "name": "python3"
  },
  "language_info": {
   "codemirror_mode": {
    "name": "ipython",
    "version": 3
   },
   "file_extension": ".py",
   "mimetype": "text/x-python",
   "name": "python",
   "nbconvert_exporter": "python",
   "pygments_lexer": "ipython3",
   "version": "3.6.6"
  }
 },
 "nbformat": 4,
 "nbformat_minor": 2
}
